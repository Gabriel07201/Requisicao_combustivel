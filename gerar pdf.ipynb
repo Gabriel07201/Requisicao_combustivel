{
 "cells": [
  {
   "cell_type": "code",
   "execution_count": 4,
   "metadata": {},
   "outputs": [],
   "source": [
    "from reportlab.pdfgen import canvas\n",
    "from reportlab.lib.pagesizes import A4\n",
    "from reportlab.pdfbase import pdfmetrics\n",
    "from reportlab.pdfbase.ttfonts import TTFont"
   ]
  },
  {
   "cell_type": "code",
   "execution_count": 21,
   "metadata": {},
   "outputs": [],
   "source": [
    "pdfmetrics.registerFont(TTFont('Impact', 'Impact.ttf'))\n",
    "pdfmetrics.registerFont(TTFont('Times', 'Times.ttf'))"
   ]
  },
  {
   "cell_type": "code",
   "execution_count": 22,
   "metadata": {},
   "outputs": [],
   "source": [
    "cnv = canvas.Canvas('meu_pdf.pdf', pagesize=A4)\n",
    "cnv.drawImage(r'C:\\Users\\Gabriel\\Desktop\\Programação\\Requisicao_combustivel\\Layout\\imagens\\layout_requisicao.jpeg', 0, 150, width = 550, height =700)\n",
    "cnv.setFont('Times', 10)\n",
    "cnv.drawString(70,780,'Teste1')\n",
    "cnv.drawString(70,760,'Teste2')\n",
    "cnv.drawString(70,740,'Teste3')\n",
    "\n",
    "cnv.save()"
   ]
  },
  {
   "cell_type": "code",
   "execution_count": null,
   "metadata": {},
   "outputs": [],
   "source": []
  },
  {
   "cell_type": "code",
   "execution_count": null,
   "metadata": {},
   "outputs": [],
   "source": []
  }
 ],
 "metadata": {
  "kernelspec": {
   "display_name": "Python 3.10.8 64-bit",
   "language": "python",
   "name": "python3"
  },
  "language_info": {
   "codemirror_mode": {
    "name": "ipython",
    "version": 3
   },
   "file_extension": ".py",
   "mimetype": "text/x-python",
   "name": "python",
   "nbconvert_exporter": "python",
   "pygments_lexer": "ipython3",
   "version": "3.10.8"
  },
  "orig_nbformat": 4,
  "vscode": {
   "interpreter": {
    "hash": "f3d558277e1468fbd6155e81dfccdb965f1cd2a6d9d32bde37de1e4b5da945bd"
   }
  }
 },
 "nbformat": 4,
 "nbformat_minor": 2
}
