{
 "cells": [
  {
   "cell_type": "code",
   "execution_count": 28,
   "metadata": {},
   "outputs": [],
   "source": [
    "from reportlab.pdfgen import canvas\n",
    "from reportlab.lib.pagesizes import A4\n",
    "from reportlab.pdfbase import pdfmetrics\n",
    "from reportlab.pdfbase.ttfonts import TTFont"
   ]
  },
  {
   "cell_type": "code",
   "execution_count": 29,
   "metadata": {},
   "outputs": [],
   "source": [
    "pdfmetrics.registerFont(TTFont('Impact', 'Impact.ttf'))\n",
    "pdfmetrics.registerFont(TTFont('Times', 'Times.ttf'))"
   ]
  },
  {
   "cell_type": "code",
   "execution_count": 56,
   "metadata": {},
   "outputs": [],
   "source": [
    "cnv = canvas.Canvas('meu_pdf.pdf', pagesize=A4)\n",
    "cnv.drawImage(r'C:\\Users\\Gabriel\\Desktop\\Programação\\Requisicao_combustivel\\Layout\\imagens\\WhatsApp Image 2022-11-29 at 13.28.23.jpeg', 0, 150, width = 550, height =700)\n",
    "cnv.setFont('Times', 10)\n",
    "cnv.drawString(40,782,'Data')\n",
    "cnv.drawString(60,762,'Solicitante')\n",
    "cnv.drawString(50,742,'Veículo')\n",
    "cnv.drawString(60, 723, 'Motorista')\n",
    "cnv.drawString(43, 704, 'Placa')\n",
    "cnv.drawString(35, 685, 'Km')\n",
    "cnv.drawString(57, 663, 'Categoria')\n",
    "cnv.drawString(48, 643, 'QTD')\n",
    "cnv.drawString(57, 624, 'Preço Unit')\n",
    "cnv.drawString(43, 604, 'Total')\n",
    "cnv.drawString(15, 575, 'Observação')\n",
    "\n",
    "cnv.drawString(40,432,'Data')\n",
    "cnv.drawString(60,412,'Solicitante')\n",
    "cnv.drawString(50,393,'Veículo')\n",
    "cnv.drawString(60, 374, 'Motorista')\n",
    "cnv.drawString(43, 354, 'Placa')\n",
    "cnv.drawString(35, 335, 'Km')\n",
    "cnv.drawString(57, 313, 'Categoria')\n",
    "cnv.drawString(48, 291, 'QTD')\n",
    "cnv.drawString(57, 274, 'Preço Unit')\n",
    "cnv.drawString(43, 254, 'Total')\n",
    "cnv.drawString(15, 226, 'Observação')\n",
    "\n",
    "cnv.save()"
   ]
  },
  {
   "cell_type": "code",
   "execution_count": null,
   "metadata": {},
   "outputs": [],
   "source": []
  },
  {
   "cell_type": "code",
   "execution_count": null,
   "metadata": {},
   "outputs": [],
   "source": []
  }
 ],
 "metadata": {
  "kernelspec": {
   "display_name": "Python 3.10.8 64-bit",
   "language": "python",
   "name": "python3"
  },
  "language_info": {
   "codemirror_mode": {
    "name": "ipython",
    "version": 3
   },
   "file_extension": ".py",
   "mimetype": "text/x-python",
   "name": "python",
   "nbconvert_exporter": "python",
   "pygments_lexer": "ipython3",
   "version": "3.10.8"
  },
  "orig_nbformat": 4,
  "vscode": {
   "interpreter": {
    "hash": "f3d558277e1468fbd6155e81dfccdb965f1cd2a6d9d32bde37de1e4b5da945bd"
   }
  }
 },
 "nbformat": 4,
 "nbformat_minor": 2
}
