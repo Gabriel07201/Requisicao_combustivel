{
 "cells": [
  {
   "cell_type": "code",
   "execution_count": 1,
   "metadata": {},
   "outputs": [],
   "source": [
    "from reportlab.pdfgen import canvas\n",
    "from reportlab.lib.pagesizes import A4\n",
    "from reportlab.pdfbase import pdfmetrics\n",
    "from reportlab.pdfbase.ttfonts import TTFont"
   ]
  },
  {
   "cell_type": "code",
   "execution_count": 10,
   "metadata": {},
   "outputs": [],
   "source": [
    "pdfmetrics.registerFont(TTFont('Impact', 'Impact.ttf'))\n",
    "pdfmetrics.registerFont(TTFont('Times', 'Times.ttf'))\n",
    "teste = 'pdf'"
   ]
  },
  {
   "cell_type": "code",
   "execution_count": 11,
   "metadata": {},
   "outputs": [],
   "source": [
    "cnv = canvas.Canvas(fr'meu_{teste}.pdf', pagesize=A4)\n",
    "cnv.drawImage(r'C:\\Users\\Gabriel\\Desktop\\Programação\\Requisicao_combustivel\\Layout\\imagens\\WhatsApp Image 2022-12-06 at 20.27.54.jpeg', 0, 150, width = 550, height =700)\n",
    "cnv.setFont('Times', 10)\n",
    "cnv.drawString(33, 825, 'ID')\n",
    "cnv.drawString(40,788,'06/12/2022')\n",
    "cnv.drawString(60,769,'Gemerson')\n",
    "cnv.drawString(55, 749, 'Motorista')\n",
    "cnv.drawString(57, 717, 'Categoria')\n",
    "cnv.drawString(48, 698, 'QTD')\n",
    "cnv.drawString(57, 678, 'Preço Unit')\n",
    "cnv.drawString(42, 658, 'Total')\n",
    "cnv.drawString(15, 622, 'Observação')\n",
    "\n",
    "cnv.drawString(33, 468, 'ID')\n",
    "cnv.drawString(40,431,'Data')\n",
    "cnv.drawString(60,411,'Solicitante')\n",
    "cnv.drawString(55, 391, 'Motorista')\n",
    "cnv.drawString(57, 360, 'Categoria')\n",
    "cnv.drawString(48, 340, 'QTD')\n",
    "cnv.drawString(57, 320, 'Preço Unit')\n",
    "cnv.drawString(42, 300, 'Total')\n",
    "cnv.drawString(15, 264, 'Observação')\n",
    "\n",
    "cnv.save()"
   ]
  },
  {
   "cell_type": "code",
   "execution_count": 4,
   "metadata": {},
   "outputs": [
    {
     "data": {
      "text/html": [
       "<div>\n",
       "<style scoped>\n",
       "    .dataframe tbody tr th:only-of-type {\n",
       "        vertical-align: middle;\n",
       "    }\n",
       "\n",
       "    .dataframe tbody tr th {\n",
       "        vertical-align: top;\n",
       "    }\n",
       "\n",
       "    .dataframe thead th {\n",
       "        text-align: right;\n",
       "    }\n",
       "</style>\n",
       "<table border=\"1\" class=\"dataframe\">\n",
       "  <thead>\n",
       "    <tr style=\"text-align: right;\">\n",
       "      <th></th>\n",
       "      <th>ID</th>\n",
       "      <th>Solicitante</th>\n",
       "      <th>Motorista</th>\n",
       "      <th>Categoria</th>\n",
       "      <th>Quantidade</th>\n",
       "      <th>Preço Unitário</th>\n",
       "      <th>Total</th>\n",
       "      <th>Data</th>\n",
       "      <th>Observação</th>\n",
       "    </tr>\n",
       "  </thead>\n",
       "  <tbody>\n",
       "    <tr>\n",
       "      <th>0</th>\n",
       "      <td>1</td>\n",
       "      <td>Adilson</td>\n",
       "      <td>Gabriel</td>\n",
       "      <td>Etanol</td>\n",
       "      <td>15.0</td>\n",
       "      <td>10.0</td>\n",
       "      <td>150</td>\n",
       "      <td>02/12/2022</td>\n",
       "      <td>NaN</td>\n",
       "    </tr>\n",
       "    <tr>\n",
       "      <th>1</th>\n",
       "      <td>2</td>\n",
       "      <td>Adilson</td>\n",
       "      <td>Adilson</td>\n",
       "      <td>Filtro de óleo</td>\n",
       "      <td>100.0</td>\n",
       "      <td>3.0</td>\n",
       "      <td>300</td>\n",
       "      <td>02/12/2022</td>\n",
       "      <td>teste att</td>\n",
       "    </tr>\n",
       "    <tr>\n",
       "      <th>2</th>\n",
       "      <td>3</td>\n",
       "      <td>Gabriel</td>\n",
       "      <td>Adilson</td>\n",
       "      <td>Gasolina</td>\n",
       "      <td>5.0</td>\n",
       "      <td>NaN</td>\n",
       "      <td>0</td>\n",
       "      <td>02/12/2022</td>\n",
       "      <td>NaN</td>\n",
       "    </tr>\n",
       "    <tr>\n",
       "      <th>3</th>\n",
       "      <td>4</td>\n",
       "      <td>Gabriel</td>\n",
       "      <td>Gemerson</td>\n",
       "      <td>Gasolina</td>\n",
       "      <td>NaN</td>\n",
       "      <td>10.0</td>\n",
       "      <td>0</td>\n",
       "      <td>02/12/2022</td>\n",
       "      <td>teste top</td>\n",
       "    </tr>\n",
       "    <tr>\n",
       "      <th>4</th>\n",
       "      <td>5</td>\n",
       "      <td>Gabriel</td>\n",
       "      <td>Adilson</td>\n",
       "      <td>Etanol</td>\n",
       "      <td>3.0</td>\n",
       "      <td>NaN</td>\n",
       "      <td>0</td>\n",
       "      <td>06/12/2022</td>\n",
       "      <td>NaN</td>\n",
       "    </tr>\n",
       "  </tbody>\n",
       "</table>\n",
       "</div>"
      ],
      "text/plain": [
       "   ID Solicitante Motorista       Categoria  Quantidade  Preço Unitário  \\\n",
       "0   1     Adilson   Gabriel          Etanol        15.0            10.0   \n",
       "1   2     Adilson   Adilson  Filtro de óleo       100.0             3.0   \n",
       "2   3     Gabriel   Adilson        Gasolina         5.0             NaN   \n",
       "3   4     Gabriel  Gemerson        Gasolina         NaN            10.0   \n",
       "4   5     Gabriel   Adilson          Etanol         3.0             NaN   \n",
       "\n",
       "   Total        Data Observação  \n",
       "0    150  02/12/2022        NaN  \n",
       "1    300  02/12/2022  teste att  \n",
       "2      0  02/12/2022        NaN  \n",
       "3      0  02/12/2022  teste top  \n",
       "4      0  06/12/2022        NaN  "
      ]
     },
     "execution_count": 4,
     "metadata": {},
     "output_type": "execute_result"
    }
   ],
   "source": [
    "import pandas as pd\n",
    "dados = pd.read_excel(r'C:\\Users\\Gabriel\\Desktop\\Programação\\Requisicao_combustivel\\banco_de_dados.xlsx')\n",
    "dados.head()"
   ]
  },
  {
   "cell_type": "code",
   "execution_count": 5,
   "metadata": {},
   "outputs": [
    {
     "data": {
      "text/plain": [
       "1"
      ]
     },
     "execution_count": 5,
     "metadata": {},
     "output_type": "execute_result"
    }
   ],
   "source": [
    "dados['ID'][0]"
   ]
  },
  {
   "cell_type": "code",
   "execution_count": 6,
   "metadata": {},
   "outputs": [
    {
     "data": {
      "text/plain": [
       "[0, 3, 5]"
      ]
     },
     "execution_count": 6,
     "metadata": {},
     "output_type": "execute_result"
    }
   ],
   "source": [
    "teste = [[0, 3, 5]]\n",
    "teste[0]"
   ]
  },
  {
   "cell_type": "code",
   "execution_count": 7,
   "metadata": {},
   "outputs": [
    {
     "data": {
      "text/plain": [
       "5"
      ]
     },
     "execution_count": 7,
     "metadata": {},
     "output_type": "execute_result"
    }
   ],
   "source": [
    "teste[0][2]"
   ]
  },
  {
   "cell_type": "code",
   "execution_count": 8,
   "metadata": {},
   "outputs": [
    {
     "name": "stdout",
     "output_type": "stream",
     "text": [
      "3.5\n"
     ]
    }
   ],
   "source": [
    "float1 = 3.5\n",
    "str1 = str(float1)\n",
    "print(str1)"
   ]
  },
  {
   "cell_type": "code",
   "execution_count": 9,
   "metadata": {},
   "outputs": [
    {
     "name": "stdout",
     "output_type": "stream",
     "text": [
      "1.99\n"
     ]
    }
   ],
   "source": [
    "float_value = 1.99\n",
    "string_value = str(float_value)\n",
    "\n",
    "print(string_value)"
   ]
  },
  {
   "cell_type": "code",
   "execution_count": null,
   "metadata": {},
   "outputs": [],
   "source": []
  }
 ],
 "metadata": {
  "kernelspec": {
   "display_name": "Python 3.10.8 64-bit",
   "language": "python",
   "name": "python3"
  },
  "language_info": {
   "codemirror_mode": {
    "name": "ipython",
    "version": 3
   },
   "file_extension": ".py",
   "mimetype": "text/x-python",
   "name": "python",
   "nbconvert_exporter": "python",
   "pygments_lexer": "ipython3",
   "version": "3.10.8"
  },
  "orig_nbformat": 4,
  "vscode": {
   "interpreter": {
    "hash": "f3d558277e1468fbd6155e81dfccdb965f1cd2a6d9d32bde37de1e4b5da945bd"
   }
  }
 },
 "nbformat": 4,
 "nbformat_minor": 2
}
